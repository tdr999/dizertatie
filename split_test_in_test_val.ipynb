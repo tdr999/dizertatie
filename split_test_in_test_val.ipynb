{
  "nbformat": 4,
  "nbformat_minor": 0,
  "metadata": {
    "colab": {
      "provenance": [],
      "authorship_tag": "ABX9TyP8ZKY2HEHvT2XOorcy11TJ",
      "include_colab_link": true
    },
    "kernelspec": {
      "name": "python3",
      "display_name": "Python 3"
    },
    "language_info": {
      "name": "python"
    }
  },
  "cells": [
    {
      "cell_type": "markdown",
      "metadata": {
        "id": "view-in-github",
        "colab_type": "text"
      },
      "source": [
        "<a href=\"https://colab.research.google.com/github/tdr999/dizertatie/blob/master/split_test_in_test_val.ipynb\" target=\"_parent\"><img src=\"https://colab.research.google.com/assets/colab-badge.svg\" alt=\"Open In Colab\"/></a>"
      ]
    },
    {
      "cell_type": "code",
      "execution_count": 1,
      "metadata": {
        "colab": {
          "base_uri": "https://localhost:8080/"
        },
        "id": "Hj_aRYhLPYSU",
        "outputId": "04aae7ca-5f6d-46b2-d610-011cff74a2ea"
      },
      "outputs": [
        {
          "output_type": "stream",
          "name": "stdout",
          "text": [
            "Mounted at /content/gdrive\n"
          ]
        }
      ],
      "source": [
        "import os\n",
        "from google.colab import drive\n",
        "drive.mount('/content/gdrive')"
      ]
    },
    {
      "cell_type": "code",
      "source": [
        "os.getcwd()"
      ],
      "metadata": {
        "colab": {
          "base_uri": "https://localhost:8080/",
          "height": 35
        },
        "id": "l_QD8QtSPmIq",
        "outputId": "200b6e6a-7d8e-4677-8558-e5dbed51428d"
      },
      "execution_count": 2,
      "outputs": [
        {
          "output_type": "execute_result",
          "data": {
            "text/plain": [
              "'/content'"
            ],
            "application/vnd.google.colaboratory.intrinsic+json": {
              "type": "string"
            }
          },
          "metadata": {},
          "execution_count": 2
        }
      ]
    },
    {
      "cell_type": "code",
      "source": [
        "os.listdir()"
      ],
      "metadata": {
        "colab": {
          "base_uri": "https://localhost:8080/"
        },
        "id": "AKVapP9kP0Qy",
        "outputId": "10056e3c-e481-4f8b-afe0-baf177d1f78a"
      },
      "execution_count": 3,
      "outputs": [
        {
          "output_type": "execute_result",
          "data": {
            "text/plain": [
              "['.config', 'gdrive', 'sample_data']"
            ]
          },
          "metadata": {},
          "execution_count": 3
        }
      ]
    },
    {
      "cell_type": "code",
      "source": [
        "os.chdir('/content/gdrive/MyDrive/date_dizertatie')"
      ],
      "metadata": {
        "id": "E-OC2W-hP2xa"
      },
      "execution_count": 4,
      "outputs": []
    },
    {
      "cell_type": "code",
      "source": [
        "os.listdir()"
      ],
      "metadata": {
        "colab": {
          "base_uri": "https://localhost:8080/"
        },
        "id": "z8JAAsPAP-jT",
        "outputId": "3c8e32c4-b00e-47ce-ef25-9ea0ac79cbc4"
      },
      "execution_count": null,
      "outputs": [
        {
          "output_type": "execute_result",
          "data": {
            "text/plain": [
              "['train_graz', 'test_graz_original', 'test_graz', 'valid_graz']"
            ]
          },
          "metadata": {},
          "execution_count": 5
        }
      ]
    },
    {
      "cell_type": "code",
      "source": [
        "sorted(os.listdir('test_graz_original/x'))"
      ],
      "metadata": {
        "colab": {
          "base_uri": "https://localhost:8080/"
        },
        "id": "IDyW-7eAP_17",
        "outputId": "3d8ba492-2ddb-4d56-c3b0-ca991a17b9c4"
      },
      "execution_count": null,
      "outputs": [
        {
          "output_type": "execute_result",
          "data": {
            "text/plain": [
              "['446.jpg',\n",
              " '447.jpg',\n",
              " '451.jpg',\n",
              " '452.jpg',\n",
              " '454.jpg',\n",
              " '455.jpg',\n",
              " '457.jpg',\n",
              " '458.jpg',\n",
              " '460.jpg',\n",
              " '461.jpg',\n",
              " '462.jpg',\n",
              " '463.jpg',\n",
              " '464.jpg',\n",
              " '465.jpg',\n",
              " '467.jpg',\n",
              " '470.jpg',\n",
              " '472.jpg',\n",
              " '473.jpg',\n",
              " '474.jpg',\n",
              " '475.jpg',\n",
              " '476.jpg',\n",
              " '478.jpg',\n",
              " '479.jpg',\n",
              " '480.jpg',\n",
              " '484.jpg',\n",
              " '485.jpg',\n",
              " '488.jpg',\n",
              " '489.jpg',\n",
              " '491.jpg',\n",
              " '493.jpg',\n",
              " '494.jpg',\n",
              " '497.jpg',\n",
              " '498.jpg',\n",
              " '499.jpg',\n",
              " '500.jpg',\n",
              " '501.jpg',\n",
              " '502.jpg',\n",
              " '507.jpg',\n",
              " '508.jpg',\n",
              " '509.jpg',\n",
              " '510.jpg',\n",
              " '512.jpg',\n",
              " '513.jpg',\n",
              " '514.jpg',\n",
              " '515.jpg',\n",
              " '517.jpg',\n",
              " '518.jpg',\n",
              " '521.jpg',\n",
              " '524.jpg',\n",
              " '525.jpg',\n",
              " '526.jpg',\n",
              " '529.jpg',\n",
              " '530.jpg',\n",
              " '531.jpg',\n",
              " '532.jpg',\n",
              " '533.jpg',\n",
              " '535.jpg',\n",
              " '536.jpg',\n",
              " '537.jpg',\n",
              " '538.jpg',\n",
              " '540.jpg',\n",
              " '543.jpg',\n",
              " '544.jpg',\n",
              " '545.jpg',\n",
              " '549.jpg',\n",
              " '551.jpg',\n",
              " '554.jpg',\n",
              " '556.jpg',\n",
              " '558.jpg',\n",
              " '559.jpg',\n",
              " '560.jpg',\n",
              " '561.jpg',\n",
              " '563.jpg',\n",
              " '564.jpg',\n",
              " '565.jpg',\n",
              " '566.jpg',\n",
              " '567.jpg',\n",
              " '568.jpg',\n",
              " '569.jpg',\n",
              " '570.jpg',\n",
              " '572.jpg',\n",
              " '573.jpg',\n",
              " '574.jpg',\n",
              " '576.jpg',\n",
              " '579.jpg',\n",
              " '580.jpg',\n",
              " '582.jpg',\n",
              " '583.jpg',\n",
              " '584.jpg',\n",
              " '585.jpg',\n",
              " '586.jpg',\n",
              " '587.jpg',\n",
              " '588.jpg',\n",
              " '590.jpg',\n",
              " '591.jpg',\n",
              " '592.jpg',\n",
              " '593.jpg',\n",
              " '594.jpg',\n",
              " '596.jpg',\n",
              " '598.jpg']"
            ]
          },
          "metadata": {},
          "execution_count": 12
        }
      ]
    },
    {
      "cell_type": "code",
      "source": [
        "sorted(os.listdir('test_graz_original/y'))"
      ],
      "metadata": {
        "colab": {
          "base_uri": "https://localhost:8080/"
        },
        "id": "wJLc5Q03QHL6",
        "outputId": "984a2465-0216-4940-c442-cb80eeda5017"
      },
      "execution_count": null,
      "outputs": [
        {
          "output_type": "execute_result",
          "data": {
            "text/plain": [
              "['446.png',\n",
              " '447.png',\n",
              " '451.png',\n",
              " '452.png',\n",
              " '454.png',\n",
              " '455.png',\n",
              " '457.png',\n",
              " '458.png',\n",
              " '460.png',\n",
              " '461.png',\n",
              " '462.png',\n",
              " '463.png',\n",
              " '464.png',\n",
              " '465.png',\n",
              " '467.png',\n",
              " '470.png',\n",
              " '472.png',\n",
              " '473.png',\n",
              " '474.png',\n",
              " '475.png',\n",
              " '476.png',\n",
              " '478.png',\n",
              " '479.png',\n",
              " '480.png',\n",
              " '484.png',\n",
              " '485.png',\n",
              " '488.png',\n",
              " '489.png',\n",
              " '491.png',\n",
              " '493.png',\n",
              " '494.png',\n",
              " '497.png',\n",
              " '498.png',\n",
              " '499.png',\n",
              " '500.png',\n",
              " '501.png',\n",
              " '502.png',\n",
              " '507.png',\n",
              " '508.png',\n",
              " '509.png',\n",
              " '510.png',\n",
              " '512.png',\n",
              " '513.png',\n",
              " '514.png',\n",
              " '515.png',\n",
              " '517.png',\n",
              " '518.png',\n",
              " '521.png',\n",
              " '524.png',\n",
              " '525.png',\n",
              " '526.png',\n",
              " '529.png',\n",
              " '530.png',\n",
              " '531.png',\n",
              " '532.png',\n",
              " '533.png',\n",
              " '535.png',\n",
              " '536.png',\n",
              " '537.png',\n",
              " '538.png',\n",
              " '540.png',\n",
              " '543.png',\n",
              " '544.png',\n",
              " '545.png',\n",
              " '549.png',\n",
              " '551.png',\n",
              " '554.png',\n",
              " '556.png',\n",
              " '558.png',\n",
              " '559.png',\n",
              " '560.png',\n",
              " '561.png',\n",
              " '563.png',\n",
              " '564.png',\n",
              " '565.png',\n",
              " '566.png',\n",
              " '567.png',\n",
              " '568.png',\n",
              " '569.png',\n",
              " '570.png',\n",
              " '572.png',\n",
              " '573.png',\n",
              " '574.png',\n",
              " '576.png',\n",
              " '579.png',\n",
              " '580.png',\n",
              " '582.png',\n",
              " '583.png',\n",
              " '584.png',\n",
              " '585.png',\n",
              " '586.png',\n",
              " '587.png',\n",
              " '588.png',\n",
              " '590.png',\n",
              " '591.png',\n",
              " '592.png',\n",
              " '593.png',\n",
              " '594.png',\n",
              " '596.png',\n",
              " '598.png']"
            ]
          },
          "metadata": {},
          "execution_count": 11
        }
      ]
    },
    {
      "cell_type": "code",
      "source": [
        "import shutil"
      ],
      "metadata": {
        "id": "P3Yu5nsbQNbi"
      },
      "execution_count": 5,
      "outputs": []
    },
    {
      "cell_type": "code",
      "source": [
        "base_path = '/content/gdrive/MyDrive/date_dizertatie'"
      ],
      "metadata": {
        "id": "EnXYMGx8QgPi"
      },
      "execution_count": 6,
      "outputs": []
    },
    {
      "cell_type": "code",
      "source": [
        "os.chdir(base_path + '/test_graz_original/x')\n",
        "\n",
        "half_of_photos = int(len(os.listdir()) / 2)\n",
        "\n",
        "for i in sorted(os.listdir())[:half_of_photos]:\n",
        "  shutil.copy(i, base_path + '/test_graz/x')\n",
        "\n",
        "for i in sorted(os.listdir())[half_of_photos:]:\n",
        "  shutil.copy(i, base_path + '/valid_graz/x')\n",
        "\n",
        "\n",
        "\n"
      ],
      "metadata": {
        "id": "EfD2U864Q1OK"
      },
      "execution_count": 12,
      "outputs": []
    },
    {
      "cell_type": "code",
      "source": [
        "os.chdir(base_path + '/test_graz_original/y')\n",
        "\n",
        "\n",
        "\n",
        "for i in sorted(os.listdir())[:half_of_photos]:\n",
        "  shutil.copy(i, base_path + '/test_graz/y')\n",
        "\n",
        "for i in sorted(os.listdir())[half_of_photos:]:\n",
        "  shutil.copy(i, base_path + '/valid_graz/y')\n"
      ],
      "metadata": {
        "id": "aL9HUbkbRwyS"
      },
      "execution_count": 13,
      "outputs": []
    },
    {
      "cell_type": "code",
      "source": [
        "os.chdir(base_path + '/test_graz_original/x')\n",
        "\n",
        "half_of_photos = len(os.listdir()) / 2"
      ],
      "metadata": {
        "id": "sa4QeI0QSmoi"
      },
      "execution_count": 9,
      "outputs": []
    },
    {
      "cell_type": "code",
      "source": [
        "half_of_photos"
      ],
      "metadata": {
        "id": "nAgQSrPamjOC",
        "outputId": "e279370a-1c76-490a-b474-a95536e50641",
        "colab": {
          "base_uri": "https://localhost:8080/"
        }
      },
      "execution_count": 10,
      "outputs": [
        {
          "output_type": "execute_result",
          "data": {
            "text/plain": [
              "50.0"
            ]
          },
          "metadata": {},
          "execution_count": 10
        }
      ]
    },
    {
      "cell_type": "code",
      "source": [],
      "metadata": {
        "id": "svxmjdHcmlaz"
      },
      "execution_count": null,
      "outputs": []
    }
  ]
}