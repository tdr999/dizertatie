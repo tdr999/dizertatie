{
 "cells": [
  {
   "cell_type": "code",
   "execution_count": 5,
   "metadata": {},
   "outputs": [],
   "source": [
    "import os\n",
    "import shutil\n",
    "\n",
    "os.chdir('C:\\\\Users\\\\tudor_ytmdyrk\\\\Desktop\\\\dizertatie\\\\teste_clasice')\n",
    "base_path = 'C:\\\\Users\\\\tudor_ytmdyrk\\\\Desktop\\\\dizertatie\\\\teste_clasice'\n",
    "orig_path = \"C:\\\\Users\\\\tudor_ytmdyrk\\\\Desktop\\\\dizertatie\\\\graz_drone_dataset\\\\dataset\\\\semantic_drone_dataset\\\\original_images\"\n",
    "label_path = \"C:\\\\Users\\\\tudor_ytmdyrk\\\\Desktop\\\\dizertatie\\\\graz_drone_dataset\\\\dataset\\\\semantic_drone_dataset\\\\label_images_semantic\"\n",
    "rgb_label_path = \"C:\\\\Users\\\\tudor_ytmdyrk\\\\Desktop\\\\dizertatie\\\\graz_drone_dataset\\\\RGB_color_image_masks\\\\RGB_color_image_masks\"\n",
    "\n",
    "\n",
    "#liste sortata cu toate pozele\n",
    "lista_orig = os.listdir(orig_path)\n",
    "lista_label = os.listdir(label_path)\n",
    "lista_rgb_label = os.listdir(rgb_label_path)"
   ]
  },
  {
   "cell_type": "code",
   "execution_count": 3,
   "metadata": {},
   "outputs": [
    {
     "name": "stdout",
     "output_type": "stream",
     "text": [
      "['000.jpg', '001.jpg', '002.jpg', '003.jpg', '004.jpg', '005.jpg', '006.jpg', '008.jpg', '011.jpg', '013.jpg', '014.jpg', '015.jpg', '016.jpg', '018.jpg', '019.jpg', '021.jpg', '022.jpg', '023.jpg', '026.jpg', '028.jpg', '031.jpg', '035.jpg', '038.jpg', '040.jpg', '041.jpg', '042.jpg', '043.jpg', '044.jpg', '045.jpg', '047.jpg', '049.jpg', '051.jpg', '052.jpg', '053.jpg', '055.jpg', '056.jpg', '057.jpg', '058.jpg', '059.jpg', '060.jpg', '062.jpg', '063.jpg', '065.jpg', '068.jpg', '070.jpg', '071.jpg', '073.jpg', '074.jpg', '075.jpg', '077.jpg', '078.jpg', '079.jpg', '080.jpg', '081.jpg', '083.jpg', '086.jpg', '088.jpg', '089.jpg', '092.jpg', '095.jpg', '098.jpg', '099.jpg', '100.jpg', '101.jpg', '102.jpg', '103.jpg', '104.jpg', '106.jpg', '107.jpg', '109.jpg', '110.jpg', '111.jpg', '112.jpg', '113.jpg', '116.jpg', '117.jpg', '118.jpg', '119.jpg', '120.jpg', '121.jpg', '122.jpg', '123.jpg', '124.jpg', '126.jpg', '128.jpg', '130.jpg', '133.jpg', '134.jpg', '135.jpg', '136.jpg', '137.jpg', '138.jpg', '139.jpg', '140.jpg', '141.jpg', '145.jpg', '146.jpg', '147.jpg', '148.jpg', '149.jpg', '150.jpg', '153.jpg', '154.jpg', '155.jpg', '156.jpg', '157.jpg', '158.jpg', '159.jpg', '160.jpg', '161.jpg', '162.jpg', '163.jpg', '164.jpg', '165.jpg', '166.jpg', '167.jpg', '170.jpg', '171.jpg', '172.jpg', '173.jpg', '174.jpg', '175.jpg', '176.jpg', '177.jpg', '178.jpg', '179.jpg', '180.jpg', '181.jpg', '182.jpg', '185.jpg', '186.jpg', '188.jpg', '190.jpg', '192.jpg', '193.jpg', '194.jpg', '195.jpg', '198.jpg', '199.jpg', '200.jpg', '202.jpg', '204.jpg', '206.jpg', '207.jpg', '208.jpg', '209.jpg', '213.jpg', '214.jpg', '215.jpg', '216.jpg', '217.jpg', '219.jpg', '220.jpg', '221.jpg', '222.jpg', '223.jpg', '225.jpg', '226.jpg', '228.jpg', '229.jpg', '230.jpg', '232.jpg', '233.jpg', '234.jpg', '235.jpg', '236.jpg', '237.jpg', '238.jpg', '239.jpg', '240.jpg', '243.jpg', '244.jpg', '246.jpg', '248.jpg', '250.jpg', '251.jpg', '252.jpg', '255.jpg', '257.jpg', '258.jpg', '259.jpg', '260.jpg', '261.jpg', '262.jpg', '263.jpg', '265.jpg', '266.jpg', '271.jpg', '272.jpg', '273.jpg', '275.jpg', '276.jpg', '277.jpg', '281.jpg', '283.jpg', '287.jpg', '288.jpg', '289.jpg', '290.jpg', '292.jpg', '294.jpg', '295.jpg', '296.jpg', '298.jpg', '299.jpg', '301.jpg', '302.jpg', '303.jpg', '304.jpg', '305.jpg', '306.jpg', '309.jpg', '310.jpg', '311.jpg', '312.jpg', '313.jpg', '314.jpg', '316.jpg', '318.jpg', '320.jpg', '321.jpg', '322.jpg', '323.jpg', '324.jpg', '325.jpg', '326.jpg', '329.jpg', '330.jpg', '331.jpg', '332.jpg', '334.jpg', '335.jpg', '338.jpg', '339.jpg', '341.jpg', '342.jpg', '344.jpg', '345.jpg', '346.jpg', '347.jpg', '348.jpg', '349.jpg', '351.jpg', '355.jpg', '356.jpg', '361.jpg', '363.jpg', '366.jpg', '367.jpg', '372.jpg', '373.jpg', '375.jpg', '376.jpg', '378.jpg', '380.jpg', '381.jpg', '382.jpg', '383.jpg', '385.jpg', '386.jpg', '388.jpg', '389.jpg', '390.jpg', '391.jpg', '393.jpg', '397.jpg', '398.jpg', '403.jpg', '406.jpg', '408.jpg', '409.jpg', '410.jpg', '411.jpg', '412.jpg', '413.jpg', '414.jpg', '416.jpg', '419.jpg', '420.jpg', '421.jpg', '423.jpg', '424.jpg', '425.jpg', '426.jpg', '427.jpg', '428.jpg', '429.jpg', '430.jpg', '431.jpg', '433.jpg', '434.jpg', '435.jpg', '437.jpg', '438.jpg', '439.jpg', '440.jpg', '442.jpg', '443.jpg', '444.jpg', '445.jpg', '446.jpg', '447.jpg', '451.jpg', '452.jpg', '454.jpg', '455.jpg', '457.jpg', '458.jpg', '460.jpg', '461.jpg', '462.jpg', '463.jpg', '464.jpg', '465.jpg', '467.jpg', '470.jpg', '472.jpg', '473.jpg', '474.jpg', '475.jpg', '476.jpg', '478.jpg', '479.jpg', '480.jpg', '484.jpg', '485.jpg', '488.jpg', '489.jpg', '491.jpg', '493.jpg', '494.jpg', '497.jpg', '498.jpg', '499.jpg', '500.jpg', '501.jpg', '502.jpg', '507.jpg', '508.jpg', '509.jpg', '510.jpg', '512.jpg', '513.jpg', '514.jpg', '515.jpg', '517.jpg', '518.jpg', '521.jpg', '524.jpg', '525.jpg', '526.jpg', '529.jpg', '530.jpg', '531.jpg', '532.jpg', '533.jpg', '535.jpg', '536.jpg', '537.jpg', '538.jpg', '540.jpg', '543.jpg', '544.jpg', '545.jpg', '549.jpg', '551.jpg', '554.jpg', '556.jpg', '558.jpg', '559.jpg', '560.jpg', '561.jpg', '563.jpg', '564.jpg', '565.jpg', '566.jpg', '567.jpg', '568.jpg', '569.jpg', '570.jpg', '572.jpg', '573.jpg', '574.jpg', '576.jpg', '579.jpg', '580.jpg', '582.jpg', '583.jpg', '584.jpg', '585.jpg', '586.jpg', '587.jpg', '588.jpg', '590.jpg', '591.jpg', '592.jpg', '593.jpg', '594.jpg', '596.jpg', '598.jpg']\n"
     ]
    }
   ],
   "source": [
    "print(lista_orig)"
   ]
  },
  {
   "cell_type": "code",
   "execution_count": 5,
   "metadata": {},
   "outputs": [
    {
     "name": "stdout",
     "output_type": "stream",
     "text": [
      "['000.png', '001.png', '002.png', '003.png', '004.png', '005.png', '006.png', '008.png', '011.png', '013.png', '014.png', '015.png', '016.png', '018.png', '019.png', '021.png', '022.png', '023.png', '026.png', '028.png', '031.png', '035.png', '038.png', '040.png', '041.png', '042.png', '043.png', '044.png', '045.png', '047.png', '049.png', '051.png', '052.png', '053.png', '055.png', '056.png', '057.png', '058.png', '059.png', '060.png', '062.png', '063.png', '065.png', '068.png', '070.png', '071.png', '073.png', '074.png', '075.png', '077.png', '078.png', '079.png', '080.png', '081.png', '083.png', '086.png', '088.png', '089.png', '092.png', '095.png', '098.png', '099.png', '100.png', '101.png', '102.png', '103.png', '104.png', '106.png', '107.png', '109.png', '110.png', '111.png', '112.png', '113.png', '116.png', '117.png', '118.png', '119.png', '120.png', '121.png', '122.png', '123.png', '124.png', '126.png', '128.png', '130.png', '133.png', '134.png', '135.png', '136.png', '137.png', '138.png', '139.png', '140.png', '141.png', '145.png', '146.png', '147.png', '148.png', '149.png', '150.png', '153.png', '154.png', '155.png', '156.png', '157.png', '158.png', '159.png', '160.png', '161.png', '162.png', '163.png', '164.png', '165.png', '166.png', '167.png', '170.png', '171.png', '172.png', '173.png', '174.png', '175.png', '176.png', '177.png', '178.png', '179.png', '180.png', '181.png', '182.png', '185.png', '186.png', '188.png', '190.png', '192.png', '193.png', '194.png', '195.png', '198.png', '199.png', '200.png', '202.png', '204.png', '206.png', '207.png', '208.png', '209.png', '213.png', '214.png', '215.png', '216.png', '217.png', '219.png', '220.png', '221.png', '222.png', '223.png', '225.png', '226.png', '228.png', '229.png', '230.png', '232.png', '233.png', '234.png', '235.png', '236.png', '237.png', '238.png', '239.png', '240.png', '243.png', '244.png', '246.png', '248.png', '250.png', '251.png', '252.png', '255.png', '257.png', '258.png', '259.png', '260.png', '261.png', '262.png', '263.png', '265.png', '266.png', '271.png', '272.png', '273.png', '275.png', '276.png', '277.png', '281.png', '283.png', '287.png', '288.png', '289.png', '290.png', '292.png', '294.png', '295.png', '296.png', '298.png', '299.png', '301.png', '302.png', '303.png', '304.png', '305.png', '306.png', '309.png', '310.png', '311.png', '312.png', '313.png', '314.png', '316.png', '318.png', '320.png', '321.png', '322.png', '323.png', '324.png', '325.png', '326.png', '329.png', '330.png', '331.png', '332.png', '334.png', '335.png', '338.png', '339.png', '341.png', '342.png', '344.png', '345.png', '346.png', '347.png', '348.png', '349.png', '351.png', '355.png', '356.png', '361.png', '363.png', '366.png', '367.png', '372.png', '373.png', '375.png', '376.png', '378.png', '380.png', '381.png', '382.png', '383.png', '385.png', '386.png', '388.png', '389.png', '390.png', '391.png', '393.png', '397.png', '398.png', '403.png', '406.png', '408.png', '409.png', '410.png', '411.png', '412.png', '413.png', '414.png', '416.png', '419.png', '420.png', '421.png', '423.png', '424.png', '425.png', '426.png', '427.png', '428.png', '429.png', '430.png', '431.png', '433.png', '434.png', '435.png', '437.png', '438.png', '439.png', '440.png', '442.png', '443.png', '444.png', '445.png', '446.png', '447.png', '451.png', '452.png', '454.png', '455.png', '457.png', '458.png', '460.png', '461.png', '462.png', '463.png', '464.png', '465.png', '467.png', '470.png', '472.png', '473.png', '474.png', '475.png', '476.png', '478.png', '479.png', '480.png', '484.png', '485.png', '488.png', '489.png', '491.png', '493.png', '494.png', '497.png', '498.png', '499.png', '500.png', '501.png', '502.png', '507.png', '508.png', '509.png', '510.png', '512.png', '513.png', '514.png', '515.png', '517.png', '518.png', '521.png', '524.png', '525.png', '526.png', '529.png', '530.png', '531.png', '532.png', '533.png', '535.png', '536.png', '537.png', '538.png', '540.png', '543.png', '544.png', '545.png', '549.png', '551.png', '554.png', '556.png', '558.png', '559.png', '560.png', '561.png', '563.png', '564.png', '565.png', '566.png', '567.png', '568.png', '569.png', '570.png', '572.png', '573.png', '574.png', '576.png', '579.png', '580.png', '582.png', '583.png', '584.png', '585.png', '586.png', '587.png', '588.png', '590.png', '591.png', '592.png', '593.png', '594.png', '596.png', '598.png']\n"
     ]
    }
   ],
   "source": [
    "print(lista_rgb_label)"
   ]
  },
  {
   "cell_type": "code",
   "execution_count": 6,
   "metadata": {},
   "outputs": [
    {
     "data": {
      "text/plain": [
       "['149.jpg',\n",
       " '149_color.png',\n",
       " '3dplot.py',\n",
       " 'make_train_test.ipynb',\n",
       " 'teste.ipynb.code-workspace',\n",
       " 'teste.py',\n",
       " 'test_inceput_dizertatie.ipynb',\n",
       " 'test_inceput_dizertatie.py',\n",
       " 'test_inceput_dizertatie.txt',\n",
       " 'x.ipynb']"
      ]
     },
     "execution_count": 6,
     "metadata": {},
     "output_type": "execute_result"
    }
   ],
   "source": [
    "os.listdir()"
   ]
  },
  {
   "cell_type": "code",
   "execution_count": 16,
   "metadata": {},
   "outputs": [],
   "source": [
    "os.mkdir(\"train_graz\")\n",
    "os.mkdir(\"test_graz\")\n",
    "os.mkdir(\"train_graz/x\")\n",
    "os.mkdir(\"train_graz/y\")\n",
    "os.mkdir(\"test_graz/x\")\n",
    "os.mkdir(\"test_graz/y\")"
   ]
  },
  {
   "cell_type": "code",
   "execution_count": 4,
   "metadata": {},
   "outputs": [],
   "source": [
    "train_factor = 0.75\n",
    "test_factor = 1 - train_factor\n",
    "train_limit = int(len(lista_orig) * train_factor)"
   ]
  },
  {
   "cell_type": "code",
   "execution_count": 7,
   "metadata": {},
   "outputs": [],
   "source": [
    "os.chdir(orig_path)\n",
    "for i in lista_orig[:train_limit]:\n",
    "    shutil.copy(i, base_path + \"\\\\train_graz\\\\x\")\n",
    "for i in lista_orig[train_limit:]:\n",
    "    shutil.copy(i, base_path + \"\\\\test_graz\\\\x\")\n",
    "\n",
    "os.chdir(rgb_label_path)\n",
    "for i in lista_rgb_label[:train_limit]:\n",
    "    shutil.copy(i, base_path + \"\\\\train_graz\\\\y\")\n",
    "for i in lista_rgb_label[train_limit:]:\n",
    "    shutil.copy(i, base_path + \"\\\\test_graz\\\\y\")"
   ]
  },
  {
   "cell_type": "code",
   "execution_count": null,
   "metadata": {},
   "outputs": [],
   "source": []
  }
 ],
 "metadata": {
  "kernelspec": {
   "display_name": "base",
   "language": "python",
   "name": "python3"
  },
  "language_info": {
   "codemirror_mode": {
    "name": "ipython",
    "version": 3
   },
   "file_extension": ".py",
   "mimetype": "text/x-python",
   "name": "python",
   "nbconvert_exporter": "python",
   "pygments_lexer": "ipython3",
   "version": "3.8.5"
  },
  "orig_nbformat": 4
 },
 "nbformat": 4,
 "nbformat_minor": 2
}
